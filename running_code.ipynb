{
 "cells": [
  {
   "cell_type": "code",
   "execution_count": 4,
   "id": "3cb9cd68-bd9f-4c2e-8b94-e3ad3ee89f3b",
   "metadata": {},
   "outputs": [
    {
     "name": "stdin",
     "output_type": "stream",
     "text": [
      "Enter the folder path or Google Drive link containing resumes:  C:\\Users\\Abhishek\\Desktop\\resume_analyzer\\Resume_analyzer_project\\resume_list\n",
      "Enter the folder path to save the analysis CSV:  C:\\Users\\Abhishek\\Desktop\\resume_analyzer\\Resume_analyzer_project\\resume_list\n",
      "Enter Gen AI keywords (comma-separated):  rag, gpt, aws, bert, llm, prompt, chat bot, image recognition, tokens, embeddings, neural networks\n",
      "Enter AI/ML keywords (comma-separated):  data science, deep learning, artificial intelligence, python, predictive analysis, statistics,machine learning,cnn, ann, rnn, fcnn\n"
     ]
    },
    {
     "name": "stdout",
     "output_type": "stream",
     "text": [
      "Processing DOCX: Abhishek_Resume_2024.docx\n",
      "Processing PDF: amazon-data-science-resume-example.pdf\n",
      "Processing PDF: artificial-intelligence-machine-learning-resume-example.pdf\n",
      "Processing PDF: associate-data-scientist-resume-example.pdf\n",
      "Processing PDF: data-science-engineer-resume-example.pdf\n",
      "Processing PDF: data-science-project-resume-example.pdf\n",
      "Processing PDF: data-science-student-resume-example.pdf\n",
      "Processing PDF: data-scientist-intern-resume-example.pdf\n",
      "Processing PDF: data-scientist-resume-example.pdf\n",
      "Processing PDF: data-visualization-resume-example.pdf\n",
      "Processing PDF: deep-learning-resume-example.pdf\n",
      "Processing PDF: entry-level-data-analyst-resume-example.pdf\n",
      "Processing PDF: entry-level-data-scientist-resume-example.pdf\n",
      "Processing PDF: entry-level-risk-adjustment-data-analyst-resume-example.pdf\n",
      "Processing PDF: experienced-data-scientist-resume-example.pdf\n",
      "Processing PDF: google-data-scientist-resume-example.pdf\n",
      "Processing PDF: healthcare-data-scientist-resume-example.pdf\n",
      "Processing PDF: junior-machine-learning-engineer-resume-example.pdf\n",
      "Processing PDF: machine-learning-engineer-resume-example.pdf\n",
      "Processing PDF: machine-learning-intern-resume-example.pdf\n",
      "Processing PDF: machine-learning-resume-example.pdf\n",
      "Processing PDF: my resume - 2024-11-29 15_37_25.pdf\n",
      "Processing PDF: senior-data-analyst-resume-example.pdf\n",
      "Processing PDF: senior-machine-learning-engineer-resume-example.pdf\n",
      "Resume analysis saved to C:\\Users\\Abhishek\\Desktop\\resume_analyzer\\Resume_analyzer_project\\resume_list\\resumes_analysis1.csv\n"
     ]
    }
   ],
   "source": [
    "from resume_analysis_pipeline import analyze_resumes\n",
    "\n",
    "# Run the function to analyze resumes\n",
    "analyze_resumes()\n"
   ]
  },
  {
   "cell_type": "code",
   "execution_count": 6,
   "id": "4c8653d3-46b9-4d1b-abe1-e62036b1bd2c",
   "metadata": {},
   "outputs": [
    {
     "name": "stdin",
     "output_type": "stream",
     "text": [
      "Enter the folder path or Google Drive link containing resumes:  C:\\Users\\Abhishek\\Desktop\\resume_analyzer\\Resume_analyzer_project\\resume_list\n",
      "Enter the folder path to save the analysis CSV:  \n",
      "Enter Gen AI keywords (comma-separated):  \n",
      "Enter AI/ML keywords (comma-separated):  \n"
     ]
    },
    {
     "name": "stdout",
     "output_type": "stream",
     "text": [
      "Processing DOCX: Abhishek_Resume_2024.docx\n",
      "Processing PDF: amazon-data-science-resume-example.pdf\n",
      "Processing PDF: artificial-intelligence-machine-learning-resume-example.pdf\n",
      "Processing PDF: associate-data-scientist-resume-example.pdf\n",
      "Processing PDF: data-science-engineer-resume-example.pdf\n",
      "Processing PDF: data-science-project-resume-example.pdf\n",
      "Processing PDF: data-science-student-resume-example.pdf\n",
      "Processing PDF: data-scientist-intern-resume-example.pdf\n",
      "Processing PDF: data-scientist-resume-example.pdf\n",
      "Processing PDF: data-visualization-resume-example.pdf\n",
      "Processing PDF: deep-learning-resume-example.pdf\n",
      "Processing PDF: entry-level-data-analyst-resume-example.pdf\n",
      "Processing PDF: entry-level-data-scientist-resume-example.pdf\n",
      "Processing PDF: entry-level-risk-adjustment-data-analyst-resume-example.pdf\n",
      "Processing PDF: experienced-data-scientist-resume-example.pdf\n",
      "Processing PDF: google-data-scientist-resume-example.pdf\n",
      "Processing PDF: healthcare-data-scientist-resume-example.pdf\n",
      "Processing PDF: junior-machine-learning-engineer-resume-example.pdf\n",
      "Processing PDF: machine-learning-engineer-resume-example.pdf\n",
      "Processing PDF: machine-learning-intern-resume-example.pdf\n",
      "Processing PDF: machine-learning-resume-example.pdf\n",
      "Processing PDF: my resume - 2024-11-29 15_37_25.pdf\n",
      "Skipping unsupported file: resumes_analysis1.csv\n",
      "Processing PDF: senior-data-analyst-resume-example.pdf\n",
      "Processing PDF: senior-machine-learning-engineer-resume-example.pdf\n",
      "Resume analysis saved to resumes_analysis2.csv\n"
     ]
    }
   ],
   "source": [
    "from resume_analysis_pipeline import analyze_resumes\n",
    "\n",
    "# Run the function to analyze resumes\n",
    "analyze_resumes()\n"
   ]
  },
  {
   "cell_type": "code",
   "execution_count": null,
   "id": "a8d986d2-a93c-4579-b459-d8edf5fe1158",
   "metadata": {},
   "outputs": [],
   "source": []
  }
 ],
 "metadata": {
  "kernelspec": {
   "display_name": "Python 3 (ipykernel)",
   "language": "python",
   "name": "python3"
  },
  "language_info": {
   "codemirror_mode": {
    "name": "ipython",
    "version": 3
   },
   "file_extension": ".py",
   "mimetype": "text/x-python",
   "name": "python",
   "nbconvert_exporter": "python",
   "pygments_lexer": "ipython3",
   "version": "3.12.3"
  }
 },
 "nbformat": 4,
 "nbformat_minor": 5
}
