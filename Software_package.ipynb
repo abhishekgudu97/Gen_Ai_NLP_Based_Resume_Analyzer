{
 "cells": [
  {
   "cell_type": "code",
   "execution_count": 4,
   "id": "1f8b7be9-13eb-4986-9c0d-86495f456aad",
   "metadata": {},
   "outputs": [
    {
     "name": "stdout",
     "output_type": "stream",
     "text": [
      "Transformers: 4.48.0\n",
      "Torch: 2.5.1\n",
      "pdfplumber: 0.11.5\n",
      "Pandas: 2.2.3\n",
      "Scikit-learn: 1.5.2\n",
      "Tqdm: 4.66.5\n",
      "NLTK: 3.9.1\n"
     ]
    }
   ],
   "source": [
    "import transformers\n",
    "import torch\n",
    "import pdfplumber\n",
    "import pandas\n",
    "import sklearn\n",
    "import tqdm\n",
    "import nltk\n",
    "\n",
    "print(f\"Transformers: {transformers.__version__}\")\n",
    "print(f\"Torch: {torch.__version__}\")\n",
    "print(f\"pdfplumber: {pdfplumber.__version__}\")\n",
    "print(f\"Pandas: {pandas.__version__}\")\n",
    "print(f\"Scikit-learn: {sklearn.__version__}\")\n",
    "print(f\"Tqdm: {tqdm.__version__}\")\n",
    "print(f\"NLTK: {nltk.__version__}\")"
   ]
  },
  {
   "cell_type": "code",
   "execution_count": 3,
   "id": "2f3d2c6e-62c9-423b-955e-d3e691cddb6d",
   "metadata": {},
   "outputs": [
    {
     "name": "stdout",
     "output_type": "stream",
     "text": [
      "Collecting pdfplumber\n",
      "  Downloading pdfplumber-0.11.5-py3-none-any.whl.metadata (42 kB)\n",
      "Collecting pdfminer.six==20231228 (from pdfplumber)\n",
      "  Downloading pdfminer.six-20231228-py3-none-any.whl.metadata (4.2 kB)\n",
      "Requirement already satisfied: Pillow>=9.1 in c:\\users\\abhishek\\anaconda3\\envs\\ai_notebook\\lib\\site-packages (from pdfplumber) (11.0.0)\n",
      "Collecting pypdfium2>=4.18.0 (from pdfplumber)\n",
      "  Downloading pypdfium2-4.30.1-py3-none-win_amd64.whl.metadata (48 kB)\n",
      "Requirement already satisfied: charset-normalizer>=2.0.0 in c:\\users\\abhishek\\anaconda3\\envs\\ai_notebook\\lib\\site-packages (from pdfminer.six==20231228->pdfplumber) (3.3.2)\n",
      "Collecting cryptography>=36.0.0 (from pdfminer.six==20231228->pdfplumber)\n",
      "  Downloading cryptography-44.0.0-cp39-abi3-win_amd64.whl.metadata (5.7 kB)\n",
      "Requirement already satisfied: cffi>=1.12 in c:\\users\\abhishek\\anaconda3\\envs\\ai_notebook\\lib\\site-packages (from cryptography>=36.0.0->pdfminer.six==20231228->pdfplumber) (1.17.1)\n",
      "Requirement already satisfied: pycparser in c:\\users\\abhishek\\anaconda3\\envs\\ai_notebook\\lib\\site-packages (from cffi>=1.12->cryptography>=36.0.0->pdfminer.six==20231228->pdfplumber) (2.21)\n",
      "Downloading pdfplumber-0.11.5-py3-none-any.whl (59 kB)\n",
      "Downloading pdfminer.six-20231228-py3-none-any.whl (5.6 MB)\n",
      "   ---------------------------------------- 0.0/5.6 MB ? eta -:--:--\n",
      "   -------------------------- ------------- 3.7/5.6 MB 24.2 MB/s eta 0:00:01\n",
      "   ----------------------------- ---------- 4.2/5.6 MB 11.4 MB/s eta 0:00:01\n",
      "   ----------------------------- ---------- 4.2/5.6 MB 11.4 MB/s eta 0:00:01\n",
      "   ----------------------------- ---------- 4.2/5.6 MB 11.4 MB/s eta 0:00:01\n",
      "   ---------------------------------------- 5.6/5.6 MB 5.5 MB/s eta 0:00:00\n",
      "Downloading pypdfium2-4.30.1-py3-none-win_amd64.whl (3.0 MB)\n",
      "   ---------------------------------------- 0.0/3.0 MB ? eta -:--:--\n",
      "   ----------------------------------- ---- 2.6/3.0 MB 15.1 MB/s eta 0:00:01\n",
      "   ---------------------------------------- 3.0/3.0 MB 14.4 MB/s eta 0:00:00\n",
      "Downloading cryptography-44.0.0-cp39-abi3-win_amd64.whl (3.2 MB)\n",
      "   ---------------------------------------- 0.0/3.2 MB ? eta -:--:--\n",
      "   ------------------------------------ --- 2.9/3.2 MB 12.9 MB/s eta 0:00:01\n",
      "   ---------------------------------------- 3.2/3.2 MB 11.8 MB/s eta 0:00:00\n",
      "Installing collected packages: pypdfium2, cryptography, pdfminer.six, pdfplumber\n",
      "Successfully installed cryptography-44.0.0 pdfminer.six-20231228 pdfplumber-0.11.5 pypdfium2-4.30.1\n",
      "Note: you may need to restart the kernel to use updated packages.\n"
     ]
    }
   ],
   "source": [
    "pip install pdfplumber"
   ]
  },
  {
   "cell_type": "code",
   "execution_count": 7,
   "id": "8d69e257-e7d7-4a5e-bbe1-748dbf684515",
   "metadata": {},
   "outputs": [
    {
     "name": "stdout",
     "output_type": "stream",
     "text": [
      "Requirement already satisfied: spacy-transformers in c:\\users\\abhishek\\anaconda3\\envs\\ai_notebook\\lib\\site-packages (1.3.5)\n",
      "Requirement already satisfied: spacy<4.1.0,>=3.5.0 in c:\\users\\abhishek\\anaconda3\\envs\\ai_notebook\\lib\\site-packages (from spacy-transformers) (3.8.2)\n",
      "Requirement already satisfied: transformers<4.37.0,>=3.4.0 in c:\\users\\abhishek\\anaconda3\\envs\\ai_notebook\\lib\\site-packages (from spacy-transformers) (4.36.2)\n",
      "Requirement already satisfied: torch>=1.8.0 in c:\\users\\abhishek\\anaconda3\\envs\\ai_notebook\\lib\\site-packages (from spacy-transformers) (2.5.1)\n",
      "Requirement already satisfied: srsly<3.0.0,>=2.4.0 in c:\\users\\abhishek\\anaconda3\\envs\\ai_notebook\\lib\\site-packages (from spacy-transformers) (2.4.8)\n",
      "Requirement already satisfied: spacy-alignments<1.0.0,>=0.7.2 in c:\\users\\abhishek\\anaconda3\\envs\\ai_notebook\\lib\\site-packages (from spacy-transformers) (0.9.1)\n",
      "Requirement already satisfied: numpy>=1.19.0 in c:\\users\\abhishek\\anaconda3\\envs\\ai_notebook\\lib\\site-packages (from spacy-transformers) (2.2.1)\n",
      "Requirement already satisfied: spacy-legacy<3.1.0,>=3.0.11 in c:\\users\\abhishek\\anaconda3\\envs\\ai_notebook\\lib\\site-packages (from spacy<4.1.0,>=3.5.0->spacy-transformers) (3.0.12)\n",
      "Requirement already satisfied: spacy-loggers<2.0.0,>=1.0.0 in c:\\users\\abhishek\\anaconda3\\envs\\ai_notebook\\lib\\site-packages (from spacy<4.1.0,>=3.5.0->spacy-transformers) (1.0.4)\n",
      "Requirement already satisfied: murmurhash<1.1.0,>=0.28.0 in c:\\users\\abhishek\\anaconda3\\envs\\ai_notebook\\lib\\site-packages (from spacy<4.1.0,>=3.5.0->spacy-transformers) (1.0.7)\n",
      "Requirement already satisfied: cymem<2.1.0,>=2.0.2 in c:\\users\\abhishek\\anaconda3\\envs\\ai_notebook\\lib\\site-packages (from spacy<4.1.0,>=3.5.0->spacy-transformers) (2.0.6)\n",
      "Requirement already satisfied: preshed<3.1.0,>=3.0.2 in c:\\users\\abhishek\\anaconda3\\envs\\ai_notebook\\lib\\site-packages (from spacy<4.1.0,>=3.5.0->spacy-transformers) (3.0.6)\n",
      "Requirement already satisfied: thinc<8.4.0,>=8.3.0 in c:\\users\\abhishek\\anaconda3\\envs\\ai_notebook\\lib\\site-packages (from spacy<4.1.0,>=3.5.0->spacy-transformers) (8.3.2)\n",
      "Requirement already satisfied: wasabi<1.2.0,>=0.9.1 in c:\\users\\abhishek\\anaconda3\\envs\\ai_notebook\\lib\\site-packages (from spacy<4.1.0,>=3.5.0->spacy-transformers) (0.9.1)\n",
      "Requirement already satisfied: catalogue<2.1.0,>=2.0.6 in c:\\users\\abhishek\\anaconda3\\envs\\ai_notebook\\lib\\site-packages (from spacy<4.1.0,>=3.5.0->spacy-transformers) (2.0.10)\n",
      "Requirement already satisfied: weasel<0.5.0,>=0.1.0 in c:\\users\\abhishek\\anaconda3\\envs\\ai_notebook\\lib\\site-packages (from spacy<4.1.0,>=3.5.0->spacy-transformers) (0.3.4)\n",
      "Requirement already satisfied: typer<1.0.0,>=0.3.0 in c:\\users\\abhishek\\anaconda3\\envs\\ai_notebook\\lib\\site-packages (from spacy<4.1.0,>=3.5.0->spacy-transformers) (0.9.0)\n",
      "Requirement already satisfied: tqdm<5.0.0,>=4.38.0 in c:\\users\\abhishek\\anaconda3\\envs\\ai_notebook\\lib\\site-packages (from spacy<4.1.0,>=3.5.0->spacy-transformers) (4.66.5)\n",
      "Requirement already satisfied: requests<3.0.0,>=2.13.0 in c:\\users\\abhishek\\anaconda3\\envs\\ai_notebook\\lib\\site-packages (from spacy<4.1.0,>=3.5.0->spacy-transformers) (2.32.3)\n",
      "Requirement already satisfied: pydantic!=1.8,!=1.8.1,<3.0.0,>=1.7.4 in c:\\users\\abhishek\\anaconda3\\envs\\ai_notebook\\lib\\site-packages (from spacy<4.1.0,>=3.5.0->spacy-transformers) (2.10.3)\n",
      "Requirement already satisfied: jinja2 in c:\\users\\abhishek\\anaconda3\\envs\\ai_notebook\\lib\\site-packages (from spacy<4.1.0,>=3.5.0->spacy-transformers) (3.1.4)\n",
      "Requirement already satisfied: setuptools in c:\\users\\abhishek\\anaconda3\\envs\\ai_notebook\\lib\\site-packages (from spacy<4.1.0,>=3.5.0->spacy-transformers) (75.1.0)\n",
      "Requirement already satisfied: packaging>=20.0 in c:\\users\\abhishek\\appdata\\roaming\\python\\python312\\site-packages (from spacy<4.1.0,>=3.5.0->spacy-transformers) (24.1)\n",
      "Requirement already satisfied: langcodes<4.0.0,>=3.2.0 in c:\\users\\abhishek\\anaconda3\\envs\\ai_notebook\\lib\\site-packages (from spacy<4.1.0,>=3.5.0->spacy-transformers) (3.3.0)\n",
      "Requirement already satisfied: filelock in c:\\users\\abhishek\\anaconda3\\envs\\ai_notebook\\lib\\site-packages (from torch>=1.8.0->spacy-transformers) (3.13.1)\n",
      "Requirement already satisfied: typing-extensions>=4.8.0 in c:\\users\\abhishek\\anaconda3\\envs\\ai_notebook\\lib\\site-packages (from torch>=1.8.0->spacy-transformers) (4.12.2)\n",
      "Requirement already satisfied: sympy==1.13.1 in c:\\users\\abhishek\\anaconda3\\envs\\ai_notebook\\lib\\site-packages (from torch>=1.8.0->spacy-transformers) (1.13.1)\n",
      "Requirement already satisfied: networkx in c:\\users\\abhishek\\anaconda3\\envs\\ai_notebook\\lib\\site-packages (from torch>=1.8.0->spacy-transformers) (3.3)\n",
      "Requirement already satisfied: fsspec in c:\\users\\abhishek\\anaconda3\\envs\\ai_notebook\\lib\\site-packages (from torch>=1.8.0->spacy-transformers) (2024.6.1)\n",
      "Requirement already satisfied: mpmath<1.4,>=1.1.0 in c:\\users\\abhishek\\anaconda3\\envs\\ai_notebook\\lib\\site-packages (from sympy==1.13.1->torch>=1.8.0->spacy-transformers) (1.3.0)\n",
      "Requirement already satisfied: huggingface-hub<1.0,>=0.19.3 in c:\\users\\abhishek\\anaconda3\\envs\\ai_notebook\\lib\\site-packages (from transformers<4.37.0,>=3.4.0->spacy-transformers) (0.27.1)\n",
      "Requirement already satisfied: pyyaml>=5.1 in c:\\users\\abhishek\\anaconda3\\envs\\ai_notebook\\lib\\site-packages (from transformers<4.37.0,>=3.4.0->spacy-transformers) (6.0.2)\n",
      "Requirement already satisfied: regex!=2019.12.17 in c:\\users\\abhishek\\anaconda3\\envs\\ai_notebook\\lib\\site-packages (from transformers<4.37.0,>=3.4.0->spacy-transformers) (2024.9.11)\n",
      "Requirement already satisfied: tokenizers<0.19,>=0.14 in c:\\users\\abhishek\\anaconda3\\envs\\ai_notebook\\lib\\site-packages (from transformers<4.37.0,>=3.4.0->spacy-transformers) (0.15.2)\n",
      "Requirement already satisfied: safetensors>=0.3.1 in c:\\users\\abhishek\\anaconda3\\envs\\ai_notebook\\lib\\site-packages (from transformers<4.37.0,>=3.4.0->spacy-transformers) (0.4.5)\n",
      "Requirement already satisfied: annotated-types>=0.6.0 in c:\\users\\abhishek\\anaconda3\\envs\\ai_notebook\\lib\\site-packages (from pydantic!=1.8,!=1.8.1,<3.0.0,>=1.7.4->spacy<4.1.0,>=3.5.0->spacy-transformers) (0.6.0)\n",
      "Requirement already satisfied: pydantic-core==2.27.1 in c:\\users\\abhishek\\anaconda3\\envs\\ai_notebook\\lib\\site-packages (from pydantic!=1.8,!=1.8.1,<3.0.0,>=1.7.4->spacy<4.1.0,>=3.5.0->spacy-transformers) (2.27.1)\n",
      "Requirement already satisfied: charset-normalizer<4,>=2 in c:\\users\\abhishek\\anaconda3\\envs\\ai_notebook\\lib\\site-packages (from requests<3.0.0,>=2.13.0->spacy<4.1.0,>=3.5.0->spacy-transformers) (3.3.2)\n",
      "Requirement already satisfied: idna<4,>=2.5 in c:\\users\\abhishek\\anaconda3\\envs\\ai_notebook\\lib\\site-packages (from requests<3.0.0,>=2.13.0->spacy<4.1.0,>=3.5.0->spacy-transformers) (3.7)\n",
      "Requirement already satisfied: urllib3<3,>=1.21.1 in c:\\users\\abhishek\\anaconda3\\envs\\ai_notebook\\lib\\site-packages (from requests<3.0.0,>=2.13.0->spacy<4.1.0,>=3.5.0->spacy-transformers) (2.2.3)\n",
      "Requirement already satisfied: certifi>=2017.4.17 in c:\\users\\abhishek\\anaconda3\\envs\\ai_notebook\\lib\\site-packages (from requests<3.0.0,>=2.13.0->spacy<4.1.0,>=3.5.0->spacy-transformers) (2024.12.14)\n",
      "Requirement already satisfied: blis<1.1.0,>=1.0.0 in c:\\users\\abhishek\\anaconda3\\envs\\ai_notebook\\lib\\site-packages (from thinc<8.4.0,>=8.3.0->spacy<4.1.0,>=3.5.0->spacy-transformers) (1.0.1)\n",
      "Requirement already satisfied: confection<1.0.0,>=0.0.1 in c:\\users\\abhishek\\anaconda3\\envs\\ai_notebook\\lib\\site-packages (from thinc<8.4.0,>=8.3.0->spacy<4.1.0,>=3.5.0->spacy-transformers) (0.1.4)\n",
      "Requirement already satisfied: colorama in c:\\users\\abhishek\\appdata\\roaming\\python\\python312\\site-packages (from tqdm<5.0.0,>=4.38.0->spacy<4.1.0,>=3.5.0->spacy-transformers) (0.4.6)\n",
      "Requirement already satisfied: click<9.0.0,>=7.1.1 in c:\\users\\abhishek\\anaconda3\\envs\\ai_notebook\\lib\\site-packages (from typer<1.0.0,>=0.3.0->spacy<4.1.0,>=3.5.0->spacy-transformers) (8.1.7)\n",
      "Requirement already satisfied: cloudpathlib<0.17.0,>=0.7.0 in c:\\users\\abhishek\\anaconda3\\envs\\ai_notebook\\lib\\site-packages (from weasel<0.5.0,>=0.1.0->spacy<4.1.0,>=3.5.0->spacy-transformers) (0.16.0)\n",
      "Requirement already satisfied: smart-open<7.0.0,>=5.2.1 in c:\\users\\abhishek\\anaconda3\\envs\\ai_notebook\\lib\\site-packages (from weasel<0.5.0,>=0.1.0->spacy<4.1.0,>=3.5.0->spacy-transformers) (5.2.1)\n",
      "Requirement already satisfied: MarkupSafe>=2.0 in c:\\users\\abhishek\\anaconda3\\envs\\ai_notebook\\lib\\site-packages (from jinja2->spacy<4.1.0,>=3.5.0->spacy-transformers) (2.1.3)\n",
      "Note: you may need to restart the kernel to use updated packages.\n"
     ]
    }
   ],
   "source": [
    "pip install spacy-transformers"
   ]
  },
  {
   "cell_type": "code",
   "execution_count": 6,
   "id": "e79b9aab-4993-4c95-b0d8-acfd4e99b7a9",
   "metadata": {},
   "outputs": [
    {
     "name": "stdout",
     "output_type": "stream",
     "text": [
      "Requirement already satisfied: ultralytics in c:\\users\\abhishek\\anaconda3\\envs\\ai_notebook\\lib\\site-packages (8.3.62)\n",
      "Requirement already satisfied: numpy>=1.23.0 in c:\\users\\abhishek\\anaconda3\\envs\\ai_notebook\\lib\\site-packages (from ultralytics) (2.2.1)\n",
      "Requirement already satisfied: matplotlib>=3.3.0 in c:\\users\\abhishek\\anaconda3\\envs\\ai_notebook\\lib\\site-packages (from ultralytics) (3.9.2)\n",
      "Requirement already satisfied: opencv-python>=4.6.0 in c:\\users\\abhishek\\anaconda3\\envs\\ai_notebook\\lib\\site-packages (from ultralytics) (4.10.0)\n",
      "Requirement already satisfied: pillow>=7.1.2 in c:\\users\\abhishek\\anaconda3\\envs\\ai_notebook\\lib\\site-packages (from ultralytics) (11.0.0)\n",
      "Requirement already satisfied: pyyaml>=5.3.1 in c:\\users\\abhishek\\anaconda3\\envs\\ai_notebook\\lib\\site-packages (from ultralytics) (6.0.2)\n",
      "Requirement already satisfied: requests>=2.23.0 in c:\\users\\abhishek\\anaconda3\\envs\\ai_notebook\\lib\\site-packages (from ultralytics) (2.32.3)\n",
      "Requirement already satisfied: scipy>=1.4.1 in c:\\users\\abhishek\\anaconda3\\envs\\ai_notebook\\lib\\site-packages (from ultralytics) (1.14.1)\n",
      "Requirement already satisfied: torch>=1.8.0 in c:\\users\\abhishek\\anaconda3\\envs\\ai_notebook\\lib\\site-packages (from ultralytics) (2.5.1)\n",
      "Requirement already satisfied: torchvision>=0.9.0 in c:\\users\\abhishek\\anaconda3\\envs\\ai_notebook\\lib\\site-packages (from ultralytics) (0.20.1)\n",
      "Requirement already satisfied: tqdm>=4.64.0 in c:\\users\\abhishek\\anaconda3\\envs\\ai_notebook\\lib\\site-packages (from ultralytics) (4.66.5)\n",
      "Requirement already satisfied: psutil in c:\\users\\abhishek\\appdata\\roaming\\python\\python312\\site-packages (from ultralytics) (6.0.0)\n",
      "Requirement already satisfied: py-cpuinfo in c:\\users\\abhishek\\anaconda3\\envs\\ai_notebook\\lib\\site-packages (from ultralytics) (9.0.0)\n",
      "Requirement already satisfied: pandas>=1.1.4 in c:\\users\\abhishek\\anaconda3\\envs\\ai_notebook\\lib\\site-packages (from ultralytics) (2.2.3)\n",
      "Requirement already satisfied: seaborn>=0.11.0 in c:\\users\\abhishek\\anaconda3\\envs\\ai_notebook\\lib\\site-packages (from ultralytics) (0.13.2)\n",
      "Collecting ultralytics-thop>=2.0.0 (from ultralytics)\n",
      "  Downloading ultralytics_thop-2.0.14-py3-none-any.whl.metadata (9.4 kB)\n",
      "Requirement already satisfied: contourpy>=1.0.1 in c:\\users\\abhishek\\anaconda3\\envs\\ai_notebook\\lib\\site-packages (from matplotlib>=3.3.0->ultralytics) (1.3.1)\n",
      "Requirement already satisfied: cycler>=0.10 in c:\\users\\abhishek\\anaconda3\\envs\\ai_notebook\\lib\\site-packages (from matplotlib>=3.3.0->ultralytics) (0.11.0)\n",
      "Requirement already satisfied: fonttools>=4.22.0 in c:\\users\\abhishek\\anaconda3\\envs\\ai_notebook\\lib\\site-packages (from matplotlib>=3.3.0->ultralytics) (4.51.0)\n",
      "Requirement already satisfied: kiwisolver>=1.3.1 in c:\\users\\abhishek\\anaconda3\\envs\\ai_notebook\\lib\\site-packages (from matplotlib>=3.3.0->ultralytics) (1.4.4)\n",
      "Requirement already satisfied: packaging>=20.0 in c:\\users\\abhishek\\appdata\\roaming\\python\\python312\\site-packages (from matplotlib>=3.3.0->ultralytics) (24.1)\n",
      "Requirement already satisfied: pyparsing>=2.3.1 in c:\\users\\abhishek\\anaconda3\\envs\\ai_notebook\\lib\\site-packages (from matplotlib>=3.3.0->ultralytics) (3.2.0)\n",
      "Requirement already satisfied: python-dateutil>=2.7 in c:\\users\\abhishek\\appdata\\roaming\\python\\python312\\site-packages (from matplotlib>=3.3.0->ultralytics) (2.9.0.post0)\n",
      "Requirement already satisfied: pytz>=2020.1 in c:\\users\\abhishek\\anaconda3\\envs\\ai_notebook\\lib\\site-packages (from pandas>=1.1.4->ultralytics) (2024.1)\n",
      "Requirement already satisfied: tzdata>=2022.7 in c:\\users\\abhishek\\anaconda3\\envs\\ai_notebook\\lib\\site-packages (from pandas>=1.1.4->ultralytics) (2023.3)\n",
      "Requirement already satisfied: charset-normalizer<4,>=2 in c:\\users\\abhishek\\anaconda3\\envs\\ai_notebook\\lib\\site-packages (from requests>=2.23.0->ultralytics) (3.3.2)\n",
      "Requirement already satisfied: idna<4,>=2.5 in c:\\users\\abhishek\\anaconda3\\envs\\ai_notebook\\lib\\site-packages (from requests>=2.23.0->ultralytics) (3.7)\n",
      "Requirement already satisfied: urllib3<3,>=1.21.1 in c:\\users\\abhishek\\anaconda3\\envs\\ai_notebook\\lib\\site-packages (from requests>=2.23.0->ultralytics) (2.2.3)\n",
      "Requirement already satisfied: certifi>=2017.4.17 in c:\\users\\abhishek\\anaconda3\\envs\\ai_notebook\\lib\\site-packages (from requests>=2.23.0->ultralytics) (2024.12.14)\n",
      "Requirement already satisfied: filelock in c:\\users\\abhishek\\anaconda3\\envs\\ai_notebook\\lib\\site-packages (from torch>=1.8.0->ultralytics) (3.13.1)\n",
      "Requirement already satisfied: typing-extensions>=4.8.0 in c:\\users\\abhishek\\anaconda3\\envs\\ai_notebook\\lib\\site-packages (from torch>=1.8.0->ultralytics) (4.12.2)\n",
      "Requirement already satisfied: setuptools in c:\\users\\abhishek\\anaconda3\\envs\\ai_notebook\\lib\\site-packages (from torch>=1.8.0->ultralytics) (75.1.0)\n",
      "Requirement already satisfied: sympy==1.13.1 in c:\\users\\abhishek\\anaconda3\\envs\\ai_notebook\\lib\\site-packages (from torch>=1.8.0->ultralytics) (1.13.1)\n",
      "Requirement already satisfied: networkx in c:\\users\\abhishek\\anaconda3\\envs\\ai_notebook\\lib\\site-packages (from torch>=1.8.0->ultralytics) (3.3)\n",
      "Requirement already satisfied: jinja2 in c:\\users\\abhishek\\anaconda3\\envs\\ai_notebook\\lib\\site-packages (from torch>=1.8.0->ultralytics) (3.1.4)\n",
      "Requirement already satisfied: fsspec in c:\\users\\abhishek\\anaconda3\\envs\\ai_notebook\\lib\\site-packages (from torch>=1.8.0->ultralytics) (2024.6.1)\n",
      "Requirement already satisfied: mpmath<1.4,>=1.1.0 in c:\\users\\abhishek\\anaconda3\\envs\\ai_notebook\\lib\\site-packages (from sympy==1.13.1->torch>=1.8.0->ultralytics) (1.3.0)\n",
      "Requirement already satisfied: colorama in c:\\users\\abhishek\\appdata\\roaming\\python\\python312\\site-packages (from tqdm>=4.64.0->ultralytics) (0.4.6)\n",
      "Requirement already satisfied: six>=1.5 in c:\\users\\abhishek\\anaconda3\\envs\\ai_notebook\\lib\\site-packages (from python-dateutil>=2.7->matplotlib>=3.3.0->ultralytics) (1.16.0)\n",
      "Requirement already satisfied: MarkupSafe>=2.0 in c:\\users\\abhishek\\anaconda3\\envs\\ai_notebook\\lib\\site-packages (from jinja2->torch>=1.8.0->ultralytics) (2.1.3)\n",
      "Downloading ultralytics_thop-2.0.14-py3-none-any.whl (26 kB)\n",
      "Installing collected packages: ultralytics-thop\n",
      "Successfully installed ultralytics-thop-2.0.14\n",
      "Note: you may need to restart the kernel to use updated packages.\n"
     ]
    }
   ],
   "source": [
    " pip install ultralytics"
   ]
  },
  {
   "cell_type": "code",
   "execution_count": 10,
   "id": "2db6fc92-da70-44a7-bfa1-6db8f65df676",
   "metadata": {},
   "outputs": [
    {
     "name": "stdout",
     "output_type": "stream",
     "text": [
      "Requirement already satisfied: python-doc in c:\\users\\abhishek\\anaconda3\\envs\\ai_notebook\\lib\\site-packages (2020.10.1)\n",
      "Requirement already satisfied: Click>=7.0 in c:\\users\\abhishek\\anaconda3\\envs\\ai_notebook\\lib\\site-packages (from python-doc) (8.1.7)\n",
      "Requirement already satisfied: blurb in c:\\users\\abhishek\\anaconda3\\envs\\ai_notebook\\lib\\site-packages (from python-doc) (2.0.0)\n",
      "Requirement already satisfied: python-docs-theme in c:\\users\\abhishek\\anaconda3\\envs\\ai_notebook\\lib\\site-packages (from python-doc) (2024.12)\n",
      "Requirement already satisfied: sphinx==2.4.4 in c:\\users\\abhishek\\anaconda3\\envs\\ai_notebook\\lib\\site-packages (from python-doc) (2.4.4)\n",
      "Requirement already satisfied: sphinxcontrib-applehelp in c:\\users\\abhishek\\anaconda3\\envs\\ai_notebook\\lib\\site-packages (from sphinx==2.4.4->python-doc) (2.0.0)\n",
      "Requirement already satisfied: sphinxcontrib-devhelp in c:\\users\\abhishek\\anaconda3\\envs\\ai_notebook\\lib\\site-packages (from sphinx==2.4.4->python-doc) (2.0.0)\n",
      "Requirement already satisfied: sphinxcontrib-jsmath in c:\\users\\abhishek\\anaconda3\\envs\\ai_notebook\\lib\\site-packages (from sphinx==2.4.4->python-doc) (1.0.1)\n",
      "Requirement already satisfied: sphinxcontrib-htmlhelp in c:\\users\\abhishek\\anaconda3\\envs\\ai_notebook\\lib\\site-packages (from sphinx==2.4.4->python-doc) (2.1.0)\n",
      "Requirement already satisfied: sphinxcontrib-serializinghtml in c:\\users\\abhishek\\anaconda3\\envs\\ai_notebook\\lib\\site-packages (from sphinx==2.4.4->python-doc) (2.0.0)\n",
      "Requirement already satisfied: sphinxcontrib-qthelp in c:\\users\\abhishek\\anaconda3\\envs\\ai_notebook\\lib\\site-packages (from sphinx==2.4.4->python-doc) (2.0.0)\n",
      "Requirement already satisfied: Jinja2>=2.3 in c:\\users\\abhishek\\anaconda3\\envs\\ai_notebook\\lib\\site-packages (from sphinx==2.4.4->python-doc) (3.1.4)\n",
      "Requirement already satisfied: Pygments>=2.0 in c:\\users\\abhishek\\appdata\\roaming\\python\\python312\\site-packages (from sphinx==2.4.4->python-doc) (2.18.0)\n",
      "Requirement already satisfied: docutils>=0.12 in c:\\users\\abhishek\\anaconda3\\envs\\ai_notebook\\lib\\site-packages (from sphinx==2.4.4->python-doc) (0.21.2)\n",
      "Requirement already satisfied: snowballstemmer>=1.1 in c:\\users\\abhishek\\anaconda3\\envs\\ai_notebook\\lib\\site-packages (from sphinx==2.4.4->python-doc) (2.2.0)\n",
      "Requirement already satisfied: babel!=2.0,>=1.3 in c:\\users\\abhishek\\anaconda3\\envs\\ai_notebook\\lib\\site-packages (from sphinx==2.4.4->python-doc) (2.11.0)\n",
      "Requirement already satisfied: alabaster<0.8,>=0.7 in c:\\users\\abhishek\\anaconda3\\envs\\ai_notebook\\lib\\site-packages (from sphinx==2.4.4->python-doc) (0.7.16)\n",
      "Requirement already satisfied: imagesize in c:\\users\\abhishek\\anaconda3\\envs\\ai_notebook\\lib\\site-packages (from sphinx==2.4.4->python-doc) (1.4.1)\n",
      "Requirement already satisfied: requests>=2.5.0 in c:\\users\\abhishek\\anaconda3\\envs\\ai_notebook\\lib\\site-packages (from sphinx==2.4.4->python-doc) (2.32.3)\n",
      "Requirement already satisfied: setuptools in c:\\users\\abhishek\\anaconda3\\envs\\ai_notebook\\lib\\site-packages (from sphinx==2.4.4->python-doc) (75.1.0)\n",
      "Requirement already satisfied: packaging in c:\\users\\abhishek\\appdata\\roaming\\python\\python312\\site-packages (from sphinx==2.4.4->python-doc) (24.1)\n",
      "Requirement already satisfied: colorama>=0.3.5 in c:\\users\\abhishek\\appdata\\roaming\\python\\python312\\site-packages (from sphinx==2.4.4->python-doc) (0.4.6)\n",
      "Requirement already satisfied: pytz>=2015.7 in c:\\users\\abhishek\\anaconda3\\envs\\ai_notebook\\lib\\site-packages (from babel!=2.0,>=1.3->sphinx==2.4.4->python-doc) (2024.1)\n",
      "Requirement already satisfied: MarkupSafe>=2.0 in c:\\users\\abhishek\\anaconda3\\envs\\ai_notebook\\lib\\site-packages (from Jinja2>=2.3->sphinx==2.4.4->python-doc) (2.1.3)\n",
      "Requirement already satisfied: charset-normalizer<4,>=2 in c:\\users\\abhishek\\anaconda3\\envs\\ai_notebook\\lib\\site-packages (from requests>=2.5.0->sphinx==2.4.4->python-doc) (3.3.2)\n",
      "Requirement already satisfied: idna<4,>=2.5 in c:\\users\\abhishek\\anaconda3\\envs\\ai_notebook\\lib\\site-packages (from requests>=2.5.0->sphinx==2.4.4->python-doc) (3.7)\n",
      "Requirement already satisfied: urllib3<3,>=1.21.1 in c:\\users\\abhishek\\anaconda3\\envs\\ai_notebook\\lib\\site-packages (from requests>=2.5.0->sphinx==2.4.4->python-doc) (2.2.3)\n",
      "Requirement already satisfied: certifi>=2017.4.17 in c:\\users\\abhishek\\anaconda3\\envs\\ai_notebook\\lib\\site-packages (from requests>=2.5.0->sphinx==2.4.4->python-doc) (2024.12.14)\n",
      "Note: you may need to restart the kernel to use updated packages.\n"
     ]
    }
   ],
   "source": [
    "pip install python-doc"
   ]
  },
  {
   "cell_type": "code",
   "execution_count": 11,
   "id": "bc1be673-9bf4-4b02-839d-9ba9177eedff",
   "metadata": {},
   "outputs": [
    {
     "name": "stdout",
     "output_type": "stream",
     "text": [
      "Collecting python-docx\n",
      "  Downloading python_docx-1.1.2-py3-none-any.whl.metadata (2.0 kB)\n",
      "Collecting lxml>=3.1.0 (from python-docx)\n",
      "  Downloading lxml-5.3.0-cp312-cp312-win_amd64.whl.metadata (3.9 kB)\n",
      "Requirement already satisfied: typing-extensions>=4.9.0 in c:\\users\\abhishek\\anaconda3\\envs\\ai_notebook\\lib\\site-packages (from python-docx) (4.12.2)\n",
      "Downloading python_docx-1.1.2-py3-none-any.whl (244 kB)\n",
      "Downloading lxml-5.3.0-cp312-cp312-win_amd64.whl (3.8 MB)\n",
      "   ---------------------------------------- 0.0/3.8 MB ? eta -:--:--\n",
      "   ----------------------------------- ---- 3.4/3.8 MB 18.3 MB/s eta 0:00:01\n",
      "   ---------------------------------------- 3.8/3.8 MB 15.1 MB/s eta 0:00:00\n",
      "Installing collected packages: lxml, python-docx\n",
      "Successfully installed lxml-5.3.0 python-docx-1.1.2\n",
      "Note: you may need to restart the kernel to use updated packages.\n"
     ]
    }
   ],
   "source": [
    "pip install python-docx"
   ]
  },
  {
   "cell_type": "code",
   "execution_count": 12,
   "id": "560be54c-1dd9-4ebf-93a6-3a0cb17dbf15",
   "metadata": {},
   "outputs": [
    {
     "name": "stdout",
     "output_type": "stream",
     "text": [
      "Collecting PyPDF2Note: you may need to restart the kernel to use updated packages.\n",
      "\n",
      "  Downloading pypdf2-3.0.1-py3-none-any.whl.metadata (6.8 kB)\n",
      "Downloading pypdf2-3.0.1-py3-none-any.whl (232 kB)\n",
      "Installing collected packages: PyPDF2\n",
      "Successfully installed PyPDF2-3.0.1\n"
     ]
    }
   ],
   "source": [
    "pip install PyPDF2"
   ]
  },
  {
   "cell_type": "code",
   "execution_count": 13,
   "id": "a2aff73c-e262-4b35-8d71-6c36e6cde32e",
   "metadata": {},
   "outputs": [
    {
     "name": "stdout",
     "output_type": "stream",
     "text": [
      "Requirement already satisfied: openpyxl in c:\\users\\abhishek\\anaconda3\\envs\\ai_notebook\\lib\\site-packages (3.1.5)\n",
      "Requirement already satisfied: et-xmlfile in c:\\users\\abhishek\\anaconda3\\envs\\ai_notebook\\lib\\site-packages (from openpyxl) (1.1.0)\n",
      "Note: you may need to restart the kernel to use updated packages.\n"
     ]
    }
   ],
   "source": [
    "pip install openpyxl"
   ]
  },
  {
   "cell_type": "code",
   "execution_count": 17,
   "id": "7710035a-cb7a-4520-b9ce-d328e4e93598",
   "metadata": {},
   "outputs": [
    {
     "name": "stdout",
     "output_type": "stream",
     "text": [
      "Collecting google-api-python-client\n",
      "  Downloading google_api_python_client-2.159.0-py2.py3-none-any.whl.metadata (6.7 kB)\n",
      "Collecting google-auth\n",
      "  Downloading google_auth-2.37.0-py2.py3-none-any.whl.metadata (4.8 kB)\n",
      "Collecting google-auth-oauthlib\n",
      "  Downloading google_auth_oauthlib-1.2.1-py2.py3-none-any.whl.metadata (2.7 kB)\n",
      "Requirement already satisfied: pdfplumber in c:\\users\\abhishek\\anaconda3\\envs\\ai_notebook\\lib\\site-packages (0.11.5)\n",
      "Collecting docx\n",
      "  Downloading docx-0.2.4.tar.gz (54 kB)\n",
      "  Preparing metadata (setup.py): started\n",
      "  Preparing metadata (setup.py): finished with status 'done'\n",
      "Requirement already satisfied: spacy in c:\\users\\abhishek\\anaconda3\\envs\\ai_notebook\\lib\\site-packages (3.8.2)\n",
      "Requirement already satisfied: pandas in c:\\users\\abhishek\\anaconda3\\envs\\ai_notebook\\lib\\site-packages (2.2.3)\n",
      "Collecting httplib2<1.dev0,>=0.19.0 (from google-api-python-client)\n",
      "  Using cached httplib2-0.22.0-py3-none-any.whl.metadata (2.6 kB)\n",
      "Collecting google-auth-httplib2<1.0.0,>=0.2.0 (from google-api-python-client)\n",
      "  Using cached google_auth_httplib2-0.2.0-py2.py3-none-any.whl.metadata (2.2 kB)\n",
      "Collecting google-api-core!=2.0.*,!=2.1.*,!=2.2.*,!=2.3.0,<3.0.0.dev0,>=1.31.5 (from google-api-python-client)\n",
      "  Downloading google_api_core-2.24.0-py3-none-any.whl.metadata (3.0 kB)\n",
      "Collecting uritemplate<5,>=3.0.1 (from google-api-python-client)\n",
      "  Using cached uritemplate-4.1.1-py2.py3-none-any.whl.metadata (2.9 kB)\n",
      "Collecting cachetools<6.0,>=2.0.0 (from google-auth)\n",
      "  Using cached cachetools-5.5.0-py3-none-any.whl.metadata (5.3 kB)\n",
      "Collecting pyasn1-modules>=0.2.1 (from google-auth)\n",
      "  Using cached pyasn1_modules-0.4.1-py3-none-any.whl.metadata (3.5 kB)\n",
      "Collecting rsa<5,>=3.1.4 (from google-auth)\n",
      "  Using cached rsa-4.9-py3-none-any.whl.metadata (4.2 kB)\n",
      "Collecting requests-oauthlib>=0.7.0 (from google-auth-oauthlib)\n",
      "  Using cached requests_oauthlib-2.0.0-py2.py3-none-any.whl.metadata (11 kB)\n",
      "Requirement already satisfied: pdfminer.six==20231228 in c:\\users\\abhishek\\anaconda3\\envs\\ai_notebook\\lib\\site-packages (from pdfplumber) (20231228)\n",
      "Requirement already satisfied: Pillow>=9.1 in c:\\users\\abhishek\\anaconda3\\envs\\ai_notebook\\lib\\site-packages (from pdfplumber) (11.0.0)\n",
      "Requirement already satisfied: pypdfium2>=4.18.0 in c:\\users\\abhishek\\anaconda3\\envs\\ai_notebook\\lib\\site-packages (from pdfplumber) (4.30.1)\n",
      "Requirement already satisfied: charset-normalizer>=2.0.0 in c:\\users\\abhishek\\anaconda3\\envs\\ai_notebook\\lib\\site-packages (from pdfminer.six==20231228->pdfplumber) (3.3.2)\n",
      "Requirement already satisfied: cryptography>=36.0.0 in c:\\users\\abhishek\\anaconda3\\envs\\ai_notebook\\lib\\site-packages (from pdfminer.six==20231228->pdfplumber) (44.0.0)\n",
      "Requirement already satisfied: lxml in c:\\users\\abhishek\\anaconda3\\envs\\ai_notebook\\lib\\site-packages (from docx) (5.3.0)\n",
      "Requirement already satisfied: spacy-legacy<3.1.0,>=3.0.11 in c:\\users\\abhishek\\anaconda3\\envs\\ai_notebook\\lib\\site-packages (from spacy) (3.0.12)\n",
      "Requirement already satisfied: spacy-loggers<2.0.0,>=1.0.0 in c:\\users\\abhishek\\anaconda3\\envs\\ai_notebook\\lib\\site-packages (from spacy) (1.0.4)\n",
      "Requirement already satisfied: murmurhash<1.1.0,>=0.28.0 in c:\\users\\abhishek\\anaconda3\\envs\\ai_notebook\\lib\\site-packages (from spacy) (1.0.7)\n",
      "Requirement already satisfied: cymem<2.1.0,>=2.0.2 in c:\\users\\abhishek\\anaconda3\\envs\\ai_notebook\\lib\\site-packages (from spacy) (2.0.6)\n",
      "Requirement already satisfied: preshed<3.1.0,>=3.0.2 in c:\\users\\abhishek\\anaconda3\\envs\\ai_notebook\\lib\\site-packages (from spacy) (3.0.6)\n",
      "Requirement already satisfied: thinc<8.4.0,>=8.3.0 in c:\\users\\abhishek\\anaconda3\\envs\\ai_notebook\\lib\\site-packages (from spacy) (8.3.2)\n",
      "Requirement already satisfied: wasabi<1.2.0,>=0.9.1 in c:\\users\\abhishek\\anaconda3\\envs\\ai_notebook\\lib\\site-packages (from spacy) (0.9.1)\n",
      "Requirement already satisfied: srsly<3.0.0,>=2.4.3 in c:\\users\\abhishek\\anaconda3\\envs\\ai_notebook\\lib\\site-packages (from spacy) (2.4.8)\n",
      "Requirement already satisfied: catalogue<2.1.0,>=2.0.6 in c:\\users\\abhishek\\anaconda3\\envs\\ai_notebook\\lib\\site-packages (from spacy) (2.0.10)\n",
      "Requirement already satisfied: weasel<0.5.0,>=0.1.0 in c:\\users\\abhishek\\anaconda3\\envs\\ai_notebook\\lib\\site-packages (from spacy) (0.3.4)\n",
      "Requirement already satisfied: typer<1.0.0,>=0.3.0 in c:\\users\\abhishek\\anaconda3\\envs\\ai_notebook\\lib\\site-packages (from spacy) (0.9.0)\n",
      "Requirement already satisfied: tqdm<5.0.0,>=4.38.0 in c:\\users\\abhishek\\anaconda3\\envs\\ai_notebook\\lib\\site-packages (from spacy) (4.66.5)\n",
      "Requirement already satisfied: numpy>=1.19.0 in c:\\users\\abhishek\\anaconda3\\envs\\ai_notebook\\lib\\site-packages (from spacy) (2.2.1)\n",
      "Requirement already satisfied: requests<3.0.0,>=2.13.0 in c:\\users\\abhishek\\anaconda3\\envs\\ai_notebook\\lib\\site-packages (from spacy) (2.32.3)\n",
      "Requirement already satisfied: pydantic!=1.8,!=1.8.1,<3.0.0,>=1.7.4 in c:\\users\\abhishek\\anaconda3\\envs\\ai_notebook\\lib\\site-packages (from spacy) (2.10.3)\n",
      "Requirement already satisfied: jinja2 in c:\\users\\abhishek\\anaconda3\\envs\\ai_notebook\\lib\\site-packages (from spacy) (3.1.4)\n",
      "Requirement already satisfied: setuptools in c:\\users\\abhishek\\anaconda3\\envs\\ai_notebook\\lib\\site-packages (from spacy) (75.1.0)\n",
      "Requirement already satisfied: packaging>=20.0 in c:\\users\\abhishek\\appdata\\roaming\\python\\python312\\site-packages (from spacy) (24.1)\n",
      "Requirement already satisfied: langcodes<4.0.0,>=3.2.0 in c:\\users\\abhishek\\anaconda3\\envs\\ai_notebook\\lib\\site-packages (from spacy) (3.3.0)\n",
      "Requirement already satisfied: python-dateutil>=2.8.2 in c:\\users\\abhishek\\appdata\\roaming\\python\\python312\\site-packages (from pandas) (2.9.0.post0)\n",
      "Requirement already satisfied: pytz>=2020.1 in c:\\users\\abhishek\\anaconda3\\envs\\ai_notebook\\lib\\site-packages (from pandas) (2024.1)\n",
      "Requirement already satisfied: tzdata>=2022.7 in c:\\users\\abhishek\\anaconda3\\envs\\ai_notebook\\lib\\site-packages (from pandas) (2023.3)\n",
      "Collecting googleapis-common-protos<2.0.dev0,>=1.56.2 (from google-api-core!=2.0.*,!=2.1.*,!=2.2.*,!=2.3.0,<3.0.0.dev0,>=1.31.5->google-api-python-client)\n",
      "  Downloading googleapis_common_protos-1.66.0-py2.py3-none-any.whl.metadata (1.5 kB)\n",
      "Requirement already satisfied: protobuf!=3.20.0,!=3.20.1,!=4.21.0,!=4.21.1,!=4.21.2,!=4.21.3,!=4.21.4,!=4.21.5,<6.0.0.dev0,>=3.19.5 in c:\\users\\abhishek\\anaconda3\\envs\\ai_notebook\\lib\\site-packages (from google-api-core!=2.0.*,!=2.1.*,!=2.2.*,!=2.3.0,<3.0.0.dev0,>=1.31.5->google-api-python-client) (5.29.2)\n",
      "Collecting proto-plus<2.0.0dev,>=1.22.3 (from google-api-core!=2.0.*,!=2.1.*,!=2.2.*,!=2.3.0,<3.0.0.dev0,>=1.31.5->google-api-python-client)\n",
      "  Downloading proto_plus-1.25.0-py3-none-any.whl.metadata (2.2 kB)\n",
      "Requirement already satisfied: pyparsing!=3.0.0,!=3.0.1,!=3.0.2,!=3.0.3,<4,>=2.4.2 in c:\\users\\abhishek\\anaconda3\\envs\\ai_notebook\\lib\\site-packages (from httplib2<1.dev0,>=0.19.0->google-api-python-client) (3.2.0)\n",
      "Collecting pyasn1<0.7.0,>=0.4.6 (from pyasn1-modules>=0.2.1->google-auth)\n",
      "  Using cached pyasn1-0.6.1-py3-none-any.whl.metadata (8.4 kB)\n",
      "Requirement already satisfied: annotated-types>=0.6.0 in c:\\users\\abhishek\\anaconda3\\envs\\ai_notebook\\lib\\site-packages (from pydantic!=1.8,!=1.8.1,<3.0.0,>=1.7.4->spacy) (0.6.0)\n",
      "Requirement already satisfied: pydantic-core==2.27.1 in c:\\users\\abhishek\\anaconda3\\envs\\ai_notebook\\lib\\site-packages (from pydantic!=1.8,!=1.8.1,<3.0.0,>=1.7.4->spacy) (2.27.1)\n",
      "Requirement already satisfied: typing-extensions>=4.12.2 in c:\\users\\abhishek\\anaconda3\\envs\\ai_notebook\\lib\\site-packages (from pydantic!=1.8,!=1.8.1,<3.0.0,>=1.7.4->spacy) (4.12.2)\n",
      "Requirement already satisfied: six>=1.5 in c:\\users\\abhishek\\anaconda3\\envs\\ai_notebook\\lib\\site-packages (from python-dateutil>=2.8.2->pandas) (1.16.0)\n",
      "Requirement already satisfied: idna<4,>=2.5 in c:\\users\\abhishek\\anaconda3\\envs\\ai_notebook\\lib\\site-packages (from requests<3.0.0,>=2.13.0->spacy) (3.7)\n",
      "Requirement already satisfied: urllib3<3,>=1.21.1 in c:\\users\\abhishek\\anaconda3\\envs\\ai_notebook\\lib\\site-packages (from requests<3.0.0,>=2.13.0->spacy) (2.2.3)\n",
      "Requirement already satisfied: certifi>=2017.4.17 in c:\\users\\abhishek\\anaconda3\\envs\\ai_notebook\\lib\\site-packages (from requests<3.0.0,>=2.13.0->spacy) (2024.12.14)\n",
      "Collecting oauthlib>=3.0.0 (from requests-oauthlib>=0.7.0->google-auth-oauthlib)\n",
      "  Using cached oauthlib-3.2.2-py3-none-any.whl.metadata (7.5 kB)\n",
      "Requirement already satisfied: blis<1.1.0,>=1.0.0 in c:\\users\\abhishek\\anaconda3\\envs\\ai_notebook\\lib\\site-packages (from thinc<8.4.0,>=8.3.0->spacy) (1.0.1)\n",
      "Requirement already satisfied: confection<1.0.0,>=0.0.1 in c:\\users\\abhishek\\anaconda3\\envs\\ai_notebook\\lib\\site-packages (from thinc<8.4.0,>=8.3.0->spacy) (0.1.4)\n",
      "Requirement already satisfied: colorama in c:\\users\\abhishek\\appdata\\roaming\\python\\python312\\site-packages (from tqdm<5.0.0,>=4.38.0->spacy) (0.4.6)\n",
      "Requirement already satisfied: click<9.0.0,>=7.1.1 in c:\\users\\abhishek\\anaconda3\\envs\\ai_notebook\\lib\\site-packages (from typer<1.0.0,>=0.3.0->spacy) (8.1.7)\n",
      "Requirement already satisfied: cloudpathlib<0.17.0,>=0.7.0 in c:\\users\\abhishek\\anaconda3\\envs\\ai_notebook\\lib\\site-packages (from weasel<0.5.0,>=0.1.0->spacy) (0.16.0)\n",
      "Requirement already satisfied: smart-open<7.0.0,>=5.2.1 in c:\\users\\abhishek\\anaconda3\\envs\\ai_notebook\\lib\\site-packages (from weasel<0.5.0,>=0.1.0->spacy) (5.2.1)\n",
      "Requirement already satisfied: MarkupSafe>=2.0 in c:\\users\\abhishek\\anaconda3\\envs\\ai_notebook\\lib\\site-packages (from jinja2->spacy) (2.1.3)\n",
      "Requirement already satisfied: cffi>=1.12 in c:\\users\\abhishek\\anaconda3\\envs\\ai_notebook\\lib\\site-packages (from cryptography>=36.0.0->pdfminer.six==20231228->pdfplumber) (1.17.1)\n",
      "Requirement already satisfied: pycparser in c:\\users\\abhishek\\anaconda3\\envs\\ai_notebook\\lib\\site-packages (from cffi>=1.12->cryptography>=36.0.0->pdfminer.six==20231228->pdfplumber) (2.21)\n",
      "Downloading google_api_python_client-2.159.0-py2.py3-none-any.whl (12.8 MB)\n",
      "   ---------------------------------------- 0.0/12.8 MB ? eta -:--:--\n",
      "   - -------------------------------------- 0.5/12.8 MB 2.8 MB/s eta 0:00:05\n",
      "   ---- ----------------------------------- 1.3/12.8 MB 2.9 MB/s eta 0:00:04\n",
      "   ------ --------------------------------- 2.1/12.8 MB 3.4 MB/s eta 0:00:04\n",
      "   ------- -------------------------------- 2.4/12.8 MB 3.4 MB/s eta 0:00:04\n",
      "   --------- ------------------------------ 3.1/12.8 MB 3.0 MB/s eta 0:00:04\n",
      "   ------------- -------------------------- 4.2/12.8 MB 3.3 MB/s eta 0:00:03\n",
      "   --------------- ------------------------ 5.0/12.8 MB 3.5 MB/s eta 0:00:03\n",
      "   ------------------ --------------------- 6.0/12.8 MB 3.6 MB/s eta 0:00:02\n",
      "   ------------------- -------------------- 6.3/12.8 MB 3.5 MB/s eta 0:00:02\n",
      "   ---------------------- ----------------- 7.1/12.8 MB 3.4 MB/s eta 0:00:02\n",
      "   ------------------------- -------------- 8.1/12.8 MB 3.6 MB/s eta 0:00:02\n",
      "   -------------------------- ------------- 8.4/12.8 MB 3.5 MB/s eta 0:00:02\n",
      "   --------------------------- ------------ 8.9/12.8 MB 3.3 MB/s eta 0:00:02\n",
      "   ---------------------------- ----------- 9.2/12.8 MB 3.2 MB/s eta 0:00:02\n",
      "   ---------------------------- ----------- 9.2/12.8 MB 3.2 MB/s eta 0:00:02\n",
      "   ------------------------------ --------- 9.7/12.8 MB 2.9 MB/s eta 0:00:02\n",
      "   ------------------------------- -------- 10.2/12.8 MB 2.9 MB/s eta 0:00:01\n",
      "   ----------------------------------- ---- 11.3/12.8 MB 3.0 MB/s eta 0:00:01\n",
      "   ------------------------------------- -- 12.1/12.8 MB 3.1 MB/s eta 0:00:01\n",
      "   ---------------------------------------- 12.8/12.8 MB 3.0 MB/s eta 0:00:00\n",
      "Downloading google_auth-2.37.0-py2.py3-none-any.whl (209 kB)\n",
      "Downloading google_auth_oauthlib-1.2.1-py2.py3-none-any.whl (24 kB)\n",
      "Using cached cachetools-5.5.0-py3-none-any.whl (9.5 kB)\n",
      "Downloading google_api_core-2.24.0-py3-none-any.whl (158 kB)\n",
      "Using cached google_auth_httplib2-0.2.0-py2.py3-none-any.whl (9.3 kB)\n",
      "Using cached httplib2-0.22.0-py3-none-any.whl (96 kB)\n",
      "Using cached pyasn1_modules-0.4.1-py3-none-any.whl (181 kB)\n",
      "Using cached requests_oauthlib-2.0.0-py2.py3-none-any.whl (24 kB)\n",
      "Using cached rsa-4.9-py3-none-any.whl (34 kB)\n",
      "Using cached uritemplate-4.1.1-py2.py3-none-any.whl (10 kB)\n",
      "Downloading googleapis_common_protos-1.66.0-py2.py3-none-any.whl (221 kB)\n",
      "Using cached oauthlib-3.2.2-py3-none-any.whl (151 kB)\n",
      "Downloading proto_plus-1.25.0-py3-none-any.whl (50 kB)\n",
      "Using cached pyasn1-0.6.1-py3-none-any.whl (83 kB)\n",
      "Building wheels for collected packages: docx\n",
      "  Building wheel for docx (setup.py): started\n",
      "  Building wheel for docx (setup.py): finished with status 'done'\n",
      "  Created wheel for docx: filename=docx-0.2.4-py3-none-any.whl size=53903 sha256=2b02a0c0e81f07726a94ea988536908bbcdd4ea28f4445af56ff8540e7302718\n",
      "  Stored in directory: c:\\users\\abhishek\\appdata\\local\\pip\\cache\\wheels\\f3\\ba\\dd\\43ed5f165600f41deddeb1e382c56ffc1067c09ec5bd705f39\n",
      "Successfully built docx\n",
      "Installing collected packages: uritemplate, pyasn1, proto-plus, oauthlib, httplib2, googleapis-common-protos, docx, cachetools, rsa, requests-oauthlib, pyasn1-modules, google-auth, google-auth-oauthlib, google-auth-httplib2, google-api-core, google-api-python-client\n",
      "Successfully installed cachetools-5.5.0 docx-0.2.4 google-api-core-2.24.0 google-api-python-client-2.159.0 google-auth-2.37.0 google-auth-httplib2-0.2.0 google-auth-oauthlib-1.2.1 googleapis-common-protos-1.66.0 httplib2-0.22.0 oauthlib-3.2.2 proto-plus-1.25.0 pyasn1-0.6.1 pyasn1-modules-0.4.1 requests-oauthlib-2.0.0 rsa-4.9 uritemplate-4.1.1\n",
      "Note: you may need to restart the kernel to use updated packages.\n"
     ]
    }
   ],
   "source": [
    "pip install google-api-python-client google-auth google-auth-oauthlib pdfplumber docx spacy pandas\n"
   ]
  },
  {
   "cell_type": "code",
   "execution_count": null,
   "id": "4ecacc80-e540-452a-9b67-9c7848c71702",
   "metadata": {},
   "outputs": [],
   "source": [
    "python -m spacy download en_core_web_sm\n",
    "conda install anaconda::openpyxl\n",
    "conda install anaconda::nltk\n",
    "conda install conda-forge::transformers"
   ]
  }
 ],
 "metadata": {
  "kernelspec": {
   "display_name": "Python 3 (ipykernel)",
   "language": "python",
   "name": "python3"
  },
  "language_info": {
   "codemirror_mode": {
    "name": "ipython",
    "version": 3
   },
   "file_extension": ".py",
   "mimetype": "text/x-python",
   "name": "python",
   "nbconvert_exporter": "python",
   "pygments_lexer": "ipython3",
   "version": "3.12.8"
  }
 },
 "nbformat": 4,
 "nbformat_minor": 5
}
